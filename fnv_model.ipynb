{
  "cells": [
    {
      "cell_type": "markdown",
      "metadata": {
        "id": "Is0dWZFwRdwf"
      },
      "source": [
        "#IMPORT DATASET"
      ]
    },
    {
      "cell_type": "markdown",
      "source": [],
      "metadata": {
        "id": "PsdIurBALx7A"
      }
    },
    {
      "cell_type": "code",
      "execution_count": null,
      "metadata": {
        "id": "uEMzqYcoQ1dG",
        "colab": {
          "base_uri": "https://localhost:8080/"
        },
        "outputId": "49ce6a5a-909d-42e0-c0c8-34e0d03f9a54"
      },
      "outputs": [
        {
          "output_type": "stream",
          "name": "stdout",
          "text": [
            "Mounted at /content/drive\n"
          ]
        }
      ],
      "source": [
        "from google.colab import drive\n",
        "drive.mount('/content/drive')"
      ]
    },
    {
      "cell_type": "markdown",
      "source": [],
      "metadata": {
        "id": "wWD_N_IhCA2k"
      }
    },
    {
      "cell_type": "markdown",
      "metadata": {
        "id": "C5fSfOtkuJx-"
      },
      "source": [
        "DATASET: https://www.kaggle.com/datasets/kritikseth/fruit-and-vegetable-image-recognition\n",
        "#IMPORTING LIBRARIES\n"
      ]
    },
    {
      "cell_type": "code",
      "execution_count": null,
      "metadata": {
        "id": "rf0BsF3ORAvI"
      },
      "outputs": [],
      "source": [
        "import numpy as np\n",
        "import tensorflow as tf\n",
        "import matplotlib.pyplot as plt"
      ]
    },
    {
      "cell_type": "markdown",
      "metadata": {
        "id": "n9Oo68beRBAE"
      },
      "source": [
        "#DATA PREPROCESSING\n",
        "#TRAINING IMAGE PREPROCESSING"
      ]
    },
    {
      "cell_type": "code",
      "execution_count": null,
      "metadata": {
        "id": "UHfvPhGYSbbE",
        "colab": {
          "base_uri": "https://localhost:8080/"
        },
        "outputId": "7be4a878-e8ad-4e57-c6e0-a35844f9af6c"
      },
      "outputs": [
        {
          "output_type": "stream",
          "name": "stdout",
          "text": [
            "Found 5619 files belonging to 55 classes.\n"
          ]
        }
      ],
      "source": [
        "training_set = tf.keras.utils.image_dataset_from_directory(\n",
        "    '/content/drive/MyDrive/f&v_dataset/Train',\n",
        "    labels=\"inferred\",\n",
        "    label_mode=\"categorical\",\n",
        "    class_names=None,\n",
        "    color_mode=\"rgb\",\n",
        "    batch_size=32,\n",
        "    image_size=(64,64),\n",
        "    shuffle=True,\n",
        "    seed=None,\n",
        "    validation_split=None,\n",
        "    subset=None,\n",
        "    interpolation=\"bilinear\",\n",
        "    follow_links=False,\n",
        "    crop_to_aspect_ratio=False\n",
        "\n",
        ")"
      ]
    },
    {
      "cell_type": "markdown",
      "metadata": {
        "id": "Hs4Z6VDxumal"
      },
      "source": [
        "#VALIDATION IMAGE PREPROCESSING"
      ]
    },
    {
      "cell_type": "code",
      "execution_count": null,
      "metadata": {
        "id": "Sx6WS1BzTj_x",
        "colab": {
          "base_uri": "https://localhost:8080/"
        },
        "outputId": "de609543-9870-486b-b6cc-cee502af8668"
      },
      "outputs": [
        {
          "output_type": "stream",
          "name": "stdout",
          "text": [
            "Found 550 files belonging to 55 classes.\n"
          ]
        }
      ],
      "source": [
        "validation_set = tf.keras.utils.image_dataset_from_directory(\n",
        "    '/content/drive/MyDrive/f&v_dataset/Validation',\n",
        "    labels=\"inferred\",\n",
        "    label_mode=\"categorical\",\n",
        "    class_names=None,\n",
        "    color_mode=\"rgb\",\n",
        "    batch_size=32,\n",
        "    image_size=(64,64),\n",
        "    shuffle=True,\n",
        "    seed=None,\n",
        "    validation_split=None,\n",
        "    subset=None,\n",
        "    interpolation=\"bilinear\",\n",
        "    follow_links=False,\n",
        "    crop_to_aspect_ratio=False\n",
        "\n",
        ")"
      ]
    },
    {
      "cell_type": "markdown",
      "metadata": {
        "id": "VZdUerup_R5z"
      },
      "source": [
        "#BUILDING MODEL"
      ]
    },
    {
      "cell_type": "code",
      "execution_count": null,
      "metadata": {
        "id": "HkKzzI2p_Qgu"
      },
      "outputs": [],
      "source": [
        "cnn = tf.keras.models.Sequential()"
      ]
    },
    {
      "cell_type": "markdown",
      "metadata": {
        "id": "piAa7bQ7_sXP"
      },
      "source": [
        "#BUILDING CONVOLUTION LAYER"
      ]
    },
    {
      "cell_type": "code",
      "execution_count": null,
      "metadata": {
        "id": "3LfTAXUvUH67"
      },
      "outputs": [],
      "source": [
        "cnn.add(tf.keras.layers.Conv2D(filters=32,kernel_size=3,activation='relu',input_shape=[64,64,3]))\n",
        "cnn.add(tf.keras.layers.Conv2D(filters=32,kernel_size=3,activation='relu'))\n",
        "cnn.add(tf.keras.layers.MaxPool2D(pool_size=2,strides=2))"
      ]
    },
    {
      "cell_type": "code",
      "execution_count": null,
      "metadata": {
        "id": "cNRRsKeiB3Ek"
      },
      "outputs": [],
      "source": [
        "cnn.add(tf.keras.layers.Conv2D(filters=64,kernel_size=3,activation='relu'))\n",
        "cnn.add(tf.keras.layers.Conv2D(filters=64,kernel_size=3,activation='relu'))\n",
        "cnn.add(tf.keras.layers.MaxPool2D(pool_size=2,strides=2))"
      ]
    },
    {
      "cell_type": "code",
      "execution_count": null,
      "metadata": {
        "id": "iAxo9Ff8DP8V"
      },
      "outputs": [],
      "source": [
        "cnn.add(tf.keras.layers.Flatten())"
      ]
    },
    {
      "cell_type": "code",
      "execution_count": null,
      "metadata": {
        "id": "6hj7iLyRDXdo"
      },
      "outputs": [],
      "source": [
        "cnn.add(tf.keras.layers.Dense(units=512,activation='relu'))"
      ]
    },
    {
      "cell_type": "code",
      "execution_count": null,
      "metadata": {
        "id": "iddf3tfwTUA6"
      },
      "outputs": [],
      "source": [
        "cnn.add(tf.keras.layers.Dense(units=256,activation='relu'))"
      ]
    },
    {
      "cell_type": "code",
      "execution_count": null,
      "metadata": {
        "id": "bpX_VzzkThBK"
      },
      "outputs": [],
      "source": [
        "cnn.add(tf.keras.layers.Dropout(0.5)) #we are dropping some neuron to avoid overfitting"
      ]
    },
    {
      "cell_type": "markdown",
      "metadata": {
        "id": "M8Btf3KoEWec"
      },
      "source": [
        "#Output layer"
      ]
    },
    {
      "cell_type": "code",
      "execution_count": null,
      "metadata": {
        "id": "NNtDTjurDysr"
      },
      "outputs": [],
      "source": [
        "cnn.add(tf.keras.layers.Dense(units=55,activation='softmax'))"
      ]
    },
    {
      "cell_type": "markdown",
      "metadata": {
        "id": "1VLqjpxoEg6v"
      },
      "source": [
        "#Compiling and training phase"
      ]
    },
    {
      "cell_type": "code",
      "execution_count": null,
      "metadata": {
        "id": "qBJAoUrUEq_K"
      },
      "outputs": [],
      "source": [
        "# cnn.compile(optimizer=tf.keras.optimizers.RMSprop(learning_rate=0.001, rho=0.09), loss='categorical_crossentropy',metrics=['accuracy'])\n",
        "cnn.compile(optimizer='RMSprop', loss='categorical_crossentropy',metrics=['accuracy'])"
      ]
    },
    {
      "cell_type": "code",
      "execution_count": null,
      "metadata": {
        "id": "4JfzlzjfURro",
        "colab": {
          "base_uri": "https://localhost:8080/"
        },
        "outputId": "ec84dbf2-7c63-49d0-fbd4-bba3b50ae6f5"
      },
      "outputs": [
        {
          "output_type": "stream",
          "name": "stdout",
          "text": [
            "Model: \"sequential\"\n",
            "_________________________________________________________________\n",
            " Layer (type)                Output Shape              Param #   \n",
            "=================================================================\n",
            " conv2d (Conv2D)             (None, 62, 62, 32)        896       \n",
            "                                                                 \n",
            " conv2d_1 (Conv2D)           (None, 60, 60, 32)        9248      \n",
            "                                                                 \n",
            " max_pooling2d (MaxPooling2  (None, 30, 30, 32)        0         \n",
            " D)                                                              \n",
            "                                                                 \n",
            " conv2d_2 (Conv2D)           (None, 28, 28, 64)        18496     \n",
            "                                                                 \n",
            " conv2d_3 (Conv2D)           (None, 26, 26, 64)        36928     \n",
            "                                                                 \n",
            " max_pooling2d_1 (MaxPoolin  (None, 13, 13, 64)        0         \n",
            " g2D)                                                            \n",
            "                                                                 \n",
            " flatten (Flatten)           (None, 10816)             0         \n",
            "                                                                 \n",
            " dense (Dense)               (None, 512)               5538304   \n",
            "                                                                 \n",
            " dense_1 (Dense)             (None, 256)               131328    \n",
            "                                                                 \n",
            " dropout (Dropout)           (None, 256)               0         \n",
            "                                                                 \n",
            " dense_2 (Dense)             (None, 55)                14135     \n",
            "                                                                 \n",
            "=================================================================\n",
            "Total params: 5749335 (21.93 MB)\n",
            "Trainable params: 5749335 (21.93 MB)\n",
            "Non-trainable params: 0 (0.00 Byte)\n",
            "_________________________________________________________________\n"
          ]
        }
      ],
      "source": [
        "cnn.summary()"
      ]
    },
    {
      "cell_type": "code",
      "execution_count": null,
      "metadata": {
        "id": "ItRdsLwTFRAU",
        "colab": {
          "base_uri": "https://localhost:8080/"
        },
        "outputId": "be04625b-6498-4a01-f8b5-bc17f00434b6"
      },
      "outputs": [
        {
          "output_type": "stream",
          "name": "stdout",
          "text": [
            "Epoch 1/50\n",
            "176/176 [==============================] - 207s 1s/step - loss: 3.4057 - accuracy: 0.3639 - val_loss: 4.3870 - val_accuracy: 0.0182\n",
            "Epoch 2/50\n",
            "176/176 [==============================] - 207s 1s/step - loss: 3.7846 - accuracy: 0.3631 - val_loss: 4.4733 - val_accuracy: 0.0182\n",
            "Epoch 3/50\n",
            "176/176 [==============================] - 204s 1s/step - loss: 3.2738 - accuracy: 0.3627 - val_loss: 6.2347 - val_accuracy: 0.0182\n",
            "Epoch 4/50\n",
            "176/176 [==============================] - 212s 1s/step - loss: 3.1671 - accuracy: 0.3629 - val_loss: 4.4769 - val_accuracy: 0.0182\n",
            "Epoch 5/50\n",
            "176/176 [==============================] - 205s 1s/step - loss: 3.4064 - accuracy: 0.3631 - val_loss: 5.4000 - val_accuracy: 0.0218\n",
            "Epoch 6/50\n",
            "176/176 [==============================] - 205s 1s/step - loss: 3.4507 - accuracy: 0.3625 - val_loss: 4.6532 - val_accuracy: 0.0218\n",
            "Epoch 7/50\n",
            "176/176 [==============================] - 231s 1s/step - loss: 3.2762 - accuracy: 0.3627 - val_loss: 4.4704 - val_accuracy: 0.0236\n",
            "Epoch 8/50\n",
            "176/176 [==============================] - 205s 1s/step - loss: 3.2704 - accuracy: 0.3627 - val_loss: 4.3572 - val_accuracy: 0.0236\n",
            "Epoch 9/50\n",
            "176/176 [==============================] - 204s 1s/step - loss: 3.2957 - accuracy: 0.3625 - val_loss: 4.4783 - val_accuracy: 0.0255\n",
            "Epoch 10/50\n",
            "176/176 [==============================] - 215s 1s/step - loss: 3.1729 - accuracy: 0.3620 - val_loss: 4.8777 - val_accuracy: 0.0182\n",
            "Epoch 11/50\n",
            "176/176 [==============================] - 207s 1s/step - loss: 3.0673 - accuracy: 0.3629 - val_loss: 4.4301 - val_accuracy: 0.0255\n",
            "Epoch 12/50\n",
            "176/176 [==============================] - 233s 1s/step - loss: 3.0323 - accuracy: 0.3632 - val_loss: 4.1701 - val_accuracy: 0.0255\n",
            "Epoch 13/50\n",
            "176/176 [==============================] - 207s 1s/step - loss: 2.8751 - accuracy: 0.3650 - val_loss: 3.9195 - val_accuracy: 0.0545\n",
            "Epoch 14/50\n",
            "176/176 [==============================] - 204s 1s/step - loss: 2.7148 - accuracy: 0.3728 - val_loss: 3.6580 - val_accuracy: 0.0582\n",
            "Epoch 15/50\n",
            "176/176 [==============================] - 210s 1s/step - loss: 2.5686 - accuracy: 0.3810 - val_loss: 3.4138 - val_accuracy: 0.0982\n",
            "Epoch 16/50\n",
            "176/176 [==============================] - 203s 1s/step - loss: 2.4096 - accuracy: 0.3985 - val_loss: 3.2629 - val_accuracy: 0.1418\n",
            "Epoch 17/50\n",
            "176/176 [==============================] - 206s 1s/step - loss: 2.1920 - accuracy: 0.4344 - val_loss: 2.7917 - val_accuracy: 0.2764\n",
            "Epoch 18/50\n",
            "176/176 [==============================] - 208s 1s/step - loss: 1.9819 - accuracy: 0.4689 - val_loss: 2.3742 - val_accuracy: 0.4164\n",
            "Epoch 19/50\n",
            "176/176 [==============================] - 202s 1s/step - loss: 1.7824 - accuracy: 0.5195 - val_loss: 2.3081 - val_accuracy: 0.4345\n",
            "Epoch 20/50\n",
            "176/176 [==============================] - 209s 1s/step - loss: 1.6463 - accuracy: 0.5624 - val_loss: 1.6692 - val_accuracy: 0.5618\n",
            "Epoch 21/50\n",
            "176/176 [==============================] - 207s 1s/step - loss: 1.4630 - accuracy: 0.5978 - val_loss: 1.6027 - val_accuracy: 0.6200\n",
            "Epoch 22/50\n",
            "176/176 [==============================] - 206s 1s/step - loss: 1.2651 - accuracy: 0.6485 - val_loss: 1.6384 - val_accuracy: 0.6236\n",
            "Epoch 23/50\n",
            "176/176 [==============================] - 214s 1s/step - loss: 1.1827 - accuracy: 0.6724 - val_loss: 1.1142 - val_accuracy: 0.7291\n",
            "Epoch 24/50\n",
            "176/176 [==============================] - 206s 1s/step - loss: 1.0437 - accuracy: 0.7112 - val_loss: 1.0326 - val_accuracy: 0.7545\n",
            "Epoch 25/50\n",
            "176/176 [==============================] - 211s 1s/step - loss: 0.9181 - accuracy: 0.7482 - val_loss: 0.9662 - val_accuracy: 0.7618\n",
            "Epoch 26/50\n",
            "176/176 [==============================] - 208s 1s/step - loss: 0.8407 - accuracy: 0.7606 - val_loss: 0.7053 - val_accuracy: 0.8836\n",
            "Epoch 27/50\n",
            "176/176 [==============================] - 205s 1s/step - loss: 0.7921 - accuracy: 0.7912 - val_loss: 0.9286 - val_accuracy: 0.8018\n",
            "Epoch 28/50\n",
            "176/176 [==============================] - 212s 1s/step - loss: 0.7097 - accuracy: 0.8019 - val_loss: 0.5453 - val_accuracy: 0.9055\n",
            "Epoch 29/50\n",
            "176/176 [==============================] - 203s 1s/step - loss: 0.6599 - accuracy: 0.8231 - val_loss: 0.5697 - val_accuracy: 0.9200\n",
            "Epoch 30/50\n",
            "176/176 [==============================] - 227s 1s/step - loss: 0.5875 - accuracy: 0.8402 - val_loss: 0.4892 - val_accuracy: 0.9073\n",
            "Epoch 31/50\n",
            "176/176 [==============================] - 206s 1s/step - loss: 0.5942 - accuracy: 0.8487 - val_loss: 0.4179 - val_accuracy: 0.9309\n",
            "Epoch 32/50\n",
            "176/176 [==============================] - 206s 1s/step - loss: 0.5254 - accuracy: 0.8571 - val_loss: 0.9274 - val_accuracy: 0.8891\n",
            "Epoch 33/50\n",
            "176/176 [==============================] - 212s 1s/step - loss: 0.5343 - accuracy: 0.8637 - val_loss: 0.3035 - val_accuracy: 0.9636\n",
            "Epoch 34/50\n",
            "176/176 [==============================] - 209s 1s/step - loss: 0.5233 - accuracy: 0.8719 - val_loss: 0.2856 - val_accuracy: 0.9582\n",
            "Epoch 35/50\n",
            "176/176 [==============================] - 205s 1s/step - loss: 0.4617 - accuracy: 0.8872 - val_loss: 0.4301 - val_accuracy: 0.9491\n",
            "Epoch 36/50\n",
            "176/176 [==============================] - 227s 1s/step - loss: 0.4574 - accuracy: 0.8895 - val_loss: 0.6685 - val_accuracy: 0.9309\n",
            "Epoch 37/50\n",
            "176/176 [==============================] - 226s 1s/step - loss: 0.4370 - accuracy: 0.8973 - val_loss: 0.2655 - val_accuracy: 0.9545\n",
            "Epoch 38/50\n",
            "176/176 [==============================] - 229s 1s/step - loss: 0.4279 - accuracy: 0.8962 - val_loss: 0.3033 - val_accuracy: 0.9327\n",
            "Epoch 39/50\n",
            "176/176 [==============================] - 205s 1s/step - loss: 0.4262 - accuracy: 0.8991 - val_loss: 0.2478 - val_accuracy: 0.9655\n",
            "Epoch 40/50\n",
            "176/176 [==============================] - 206s 1s/step - loss: 0.3982 - accuracy: 0.9041 - val_loss: 0.3253 - val_accuracy: 0.9636\n",
            "Epoch 41/50\n",
            "176/176 [==============================] - 226s 1s/step - loss: 0.3829 - accuracy: 0.9098 - val_loss: 0.4067 - val_accuracy: 0.9564\n",
            "Epoch 42/50\n",
            "176/176 [==============================] - 228s 1s/step - loss: 0.4683 - accuracy: 0.9107 - val_loss: 0.3530 - val_accuracy: 0.9345\n",
            "Epoch 43/50\n",
            "176/176 [==============================] - 212s 1s/step - loss: 0.4459 - accuracy: 0.9073 - val_loss: 0.3229 - val_accuracy: 0.9564\n",
            "Epoch 44/50\n",
            "176/176 [==============================] - 226s 1s/step - loss: 0.4194 - accuracy: 0.9164 - val_loss: 0.2825 - val_accuracy: 0.9564\n",
            "Epoch 45/50\n",
            "176/176 [==============================] - 211s 1s/step - loss: 0.3634 - accuracy: 0.9219 - val_loss: 0.6516 - val_accuracy: 0.9145\n",
            "Epoch 46/50\n",
            "176/176 [==============================] - 212s 1s/step - loss: 0.3556 - accuracy: 0.9265 - val_loss: 0.3612 - val_accuracy: 0.9545\n",
            "Epoch 47/50\n",
            "176/176 [==============================] - 203s 1s/step - loss: 0.3978 - accuracy: 0.9247 - val_loss: 0.3828 - val_accuracy: 0.9436\n",
            "Epoch 48/50\n",
            "176/176 [==============================] - 210s 1s/step - loss: 0.3737 - accuracy: 0.9231 - val_loss: 0.3706 - val_accuracy: 0.9727\n",
            "Epoch 49/50\n",
            "176/176 [==============================] - 227s 1s/step - loss: 0.3705 - accuracy: 0.9235 - val_loss: 0.4930 - val_accuracy: 0.9545\n",
            "Epoch 50/50\n",
            "176/176 [==============================] - 206s 1s/step - loss: 0.3876 - accuracy: 0.9267 - val_loss: 0.5073 - val_accuracy: 0.9600\n"
          ]
        }
      ],
      "source": [
        "training_history = cnn.fit(x=training_set,validation_data=validation_set,epochs=50)"
      ]
    },
    {
      "cell_type": "markdown",
      "metadata": {
        "id": "ttHkkp08GaDC"
      },
      "source": [
        "#Saving Model"
      ]
    },
    {
      "cell_type": "code",
      "execution_count": null,
      "metadata": {
        "id": "5U_knJGgF7yL",
        "colab": {
          "base_uri": "https://localhost:8080/"
        },
        "outputId": "af3294a7-734a-4016-aa16-3469814d9f8d"
      },
      "outputs": [
        {
          "output_type": "stream",
          "name": "stderr",
          "text": [
            "/usr/local/lib/python3.10/dist-packages/keras/src/engine/training.py:3103: UserWarning: You are saving your model as an HDF5 file via `model.save()`. This file format is considered legacy. We recommend using instead the native Keras format, e.g. `model.save('my_model.keras')`.\n",
            "  saving_api.save_model(\n"
          ]
        }
      ],
      "source": [
        "cnn.save('trained_model_data.h5')"
      ]
    },
    {
      "cell_type": "code",
      "execution_count": null,
      "metadata": {
        "id": "QPoDbKb-IRH1",
        "colab": {
          "base_uri": "https://localhost:8080/"
        },
        "outputId": "4475efdb-4da2-4e3a-8a6b-67857b2d1216"
      },
      "outputs": [
        {
          "output_type": "execute_result",
          "data": {
            "text/plain": [
              "{'loss': [3.4056642055511475,\n",
              "  3.784606695175171,\n",
              "  3.2737629413604736,\n",
              "  3.167050838470459,\n",
              "  3.406400203704834,\n",
              "  3.450678586959839,\n",
              "  3.276184558868408,\n",
              "  3.2704286575317383,\n",
              "  3.2957191467285156,\n",
              "  3.172870397567749,\n",
              "  3.067328453063965,\n",
              "  3.032263994216919,\n",
              "  2.8751001358032227,\n",
              "  2.714796304702759,\n",
              "  2.5685746669769287,\n",
              "  2.409550189971924,\n",
              "  2.1920483112335205,\n",
              "  1.9819409847259521,\n",
              "  1.7823985815048218,\n",
              "  1.64625084400177,\n",
              "  1.4630249738693237,\n",
              "  1.2651257514953613,\n",
              "  1.182680606842041,\n",
              "  1.0437161922454834,\n",
              "  0.9181445240974426,\n",
              "  0.84068363904953,\n",
              "  0.7921218276023865,\n",
              "  0.7097043395042419,\n",
              "  0.6599087119102478,\n",
              "  0.5874560475349426,\n",
              "  0.5942056179046631,\n",
              "  0.5253627896308899,\n",
              "  0.5342540144920349,\n",
              "  0.5232843160629272,\n",
              "  0.4617099463939667,\n",
              "  0.4574366807937622,\n",
              "  0.4369675815105438,\n",
              "  0.42787107825279236,\n",
              "  0.4261999726295471,\n",
              "  0.3981749415397644,\n",
              "  0.3829309940338135,\n",
              "  0.46827948093414307,\n",
              "  0.4459385871887207,\n",
              "  0.419401079416275,\n",
              "  0.363407701253891,\n",
              "  0.35557815432548523,\n",
              "  0.39778944849967957,\n",
              "  0.3736650347709656,\n",
              "  0.37045857310295105,\n",
              "  0.3875546157360077],\n",
              " 'accuracy': [0.36394375562667847,\n",
              "  0.36305391788482666,\n",
              "  0.3626979887485504,\n",
              "  0.36287596821784973,\n",
              "  0.36305391788482666,\n",
              "  0.3625200092792511,\n",
              "  0.3626979887485504,\n",
              "  0.3626979887485504,\n",
              "  0.3625200092792511,\n",
              "  0.3619861304759979,\n",
              "  0.36287596821784973,\n",
              "  0.363231897354126,\n",
              "  0.3650115728378296,\n",
              "  0.37284213304519653,\n",
              "  0.3810286521911621,\n",
              "  0.398469477891922,\n",
              "  0.4344189465045929,\n",
              "  0.46894463896751404,\n",
              "  0.5194874405860901,\n",
              "  0.5623776316642761,\n",
              "  0.5977932214736938,\n",
              "  0.6485139727592468,\n",
              "  0.6723616123199463,\n",
              "  0.7111585736274719,\n",
              "  0.748175859451294,\n",
              "  0.7606335878372192,\n",
              "  0.7912439703941345,\n",
              "  0.8019220232963562,\n",
              "  0.823100209236145,\n",
              "  0.8401851058006287,\n",
              "  0.8487275242805481,\n",
              "  0.857092022895813,\n",
              "  0.8636767864227295,\n",
              "  0.8718633055686951,\n",
              "  0.8871685266494751,\n",
              "  0.8894821405410767,\n",
              "  0.8973127007484436,\n",
              "  0.8962448835372925,\n",
              "  0.8990923762321472,\n",
              "  0.9040754437446594,\n",
              "  0.9097704291343689,\n",
              "  0.9106602668762207,\n",
              "  0.9072788953781128,\n",
              "  0.9163552522659302,\n",
              "  0.9218721985816956,\n",
              "  0.9264993667602539,\n",
              "  0.9247196912765503,\n",
              "  0.923117995262146,\n",
              "  0.9234739542007446,\n",
              "  0.9266773462295532],\n",
              " 'val_loss': [4.387026309967041,\n",
              "  4.473324775695801,\n",
              "  6.234708786010742,\n",
              "  4.476912498474121,\n",
              "  5.400033473968506,\n",
              "  4.6532206535339355,\n",
              "  4.4703850746154785,\n",
              "  4.357238292694092,\n",
              "  4.478317737579346,\n",
              "  4.8777265548706055,\n",
              "  4.43007230758667,\n",
              "  4.170098304748535,\n",
              "  3.9194929599761963,\n",
              "  3.65799617767334,\n",
              "  3.4138476848602295,\n",
              "  3.262873888015747,\n",
              "  2.7917234897613525,\n",
              "  2.374244451522827,\n",
              "  2.308058977127075,\n",
              "  1.6691548824310303,\n",
              "  1.6027007102966309,\n",
              "  1.6384222507476807,\n",
              "  1.1142175197601318,\n",
              "  1.0325855016708374,\n",
              "  0.9662009477615356,\n",
              "  0.7053020000457764,\n",
              "  0.928597092628479,\n",
              "  0.5453059673309326,\n",
              "  0.5696830153465271,\n",
              "  0.48918208479881287,\n",
              "  0.41790443658828735,\n",
              "  0.9274414777755737,\n",
              "  0.3034876585006714,\n",
              "  0.2856166362762451,\n",
              "  0.4300699234008789,\n",
              "  0.6685417294502258,\n",
              "  0.2654501795768738,\n",
              "  0.3033443093299866,\n",
              "  0.24780642986297607,\n",
              "  0.3252658545970917,\n",
              "  0.40672725439071655,\n",
              "  0.3530103266239166,\n",
              "  0.3229052722454071,\n",
              "  0.2824954688549042,\n",
              "  0.6515540480613708,\n",
              "  0.3612014055252075,\n",
              "  0.3828463852405548,\n",
              "  0.37060654163360596,\n",
              "  0.4930441677570343,\n",
              "  0.5073419809341431],\n",
              " 'val_accuracy': [0.0181818176060915,\n",
              "  0.0181818176060915,\n",
              "  0.0181818176060915,\n",
              "  0.0181818176060915,\n",
              "  0.02181818149983883,\n",
              "  0.02181818149983883,\n",
              "  0.023636363446712494,\n",
              "  0.023636363446712494,\n",
              "  0.02545454539358616,\n",
              "  0.0181818176060915,\n",
              "  0.02545454539358616,\n",
              "  0.02545454539358616,\n",
              "  0.05454545468091965,\n",
              "  0.05818181857466698,\n",
              "  0.0981818214058876,\n",
              "  0.14181818068027496,\n",
              "  0.27636364102363586,\n",
              "  0.4163636267185211,\n",
              "  0.43454545736312866,\n",
              "  0.5618181824684143,\n",
              "  0.6200000047683716,\n",
              "  0.6236363649368286,\n",
              "  0.7290909290313721,\n",
              "  0.7545454502105713,\n",
              "  0.7618181705474854,\n",
              "  0.8836363554000854,\n",
              "  0.8018181920051575,\n",
              "  0.9054545164108276,\n",
              "  0.9200000166893005,\n",
              "  0.9072727560997009,\n",
              "  0.9309090971946716,\n",
              "  0.889090895652771,\n",
              "  0.9636363387107849,\n",
              "  0.9581817984580994,\n",
              "  0.9490908980369568,\n",
              "  0.9309090971946716,\n",
              "  0.9545454382896423,\n",
              "  0.9327272772789001,\n",
              "  0.9654545187950134,\n",
              "  0.9636363387107849,\n",
              "  0.9563636183738708,\n",
              "  0.9345454573631287,\n",
              "  0.9563636183738708,\n",
              "  0.9563636183738708,\n",
              "  0.914545476436615,\n",
              "  0.9545454382896423,\n",
              "  0.9436363577842712,\n",
              "  0.9727272987365723,\n",
              "  0.9545454382896423,\n",
              "  0.9599999785423279]}"
            ]
          },
          "metadata": {},
          "execution_count": 23
        }
      ],
      "source": [
        "training_history.history #Return Dictionary"
      ]
    },
    {
      "cell_type": "markdown",
      "metadata": {
        "id": "pRzEIKu4Hn4f"
      },
      "source": [
        "###Recording History In JSON"
      ]
    },
    {
      "cell_type": "code",
      "execution_count": null,
      "metadata": {
        "id": "L9Ba0uXDHNLw"
      },
      "outputs": [],
      "source": [
        "import json\n",
        "with open('training_hist_data.json','w') as f:\n",
        "  json.dump(training_history.history,f)"
      ]
    },
    {
      "cell_type": "code",
      "execution_count": null,
      "metadata": {
        "id": "pDhRQsT1IuC4",
        "colab": {
          "base_uri": "https://localhost:8080/"
        },
        "outputId": "ffe3954b-1842-48e7-f7ef-c164648ef030"
      },
      "outputs": [
        {
          "output_type": "stream",
          "name": "stdout",
          "text": [
            "dict_keys(['loss', 'accuracy', 'val_loss', 'val_accuracy'])\n"
          ]
        }
      ],
      "source": [
        "print(training_history.history.keys())"
      ]
    },
    {
      "cell_type": "markdown",
      "metadata": {
        "id": "TXEDs56rJu_X"
      },
      "source": [
        "##Calculating Accuracy Of Model Achived On Validation Set"
      ]
    },
    {
      "cell_type": "code",
      "execution_count": null,
      "metadata": {
        "id": "L0z8t7jIJ_ll",
        "colab": {
          "base_uri": "https://localhost:8080/"
        },
        "outputId": "5be75c6a-ad55-49e8-f16b-0791eaaddef4"
      },
      "outputs": [
        {
          "output_type": "stream",
          "name": "stdout",
          "text": [
            "Validation Set Accuracy : 95.99999785423279 % \n"
          ]
        }
      ],
      "source": [
        "print(\"Validation Set Accuracy : {} % \".format(training_history.history['val_accuracy'][-1]*100))"
      ]
    },
    {
      "cell_type": "markdown",
      "metadata": {
        "id": "6aTdy33ZMeco"
      },
      "source": [
        "#Accuracy Visualiation\n",
        "##Training Visualiation"
      ]
    },
    {
      "cell_type": "code",
      "execution_count": null,
      "metadata": {
        "id": "HY_dIlBHMdQP",
        "colab": {
          "base_uri": "https://localhost:8080/",
          "height": 472
        },
        "outputId": "d29c74cf-88b7-4573-896a-5aae18034e78"
      },
      "outputs": [
        {
          "output_type": "display_data",
          "data": {
            "text/plain": [
              "<Figure size 640x480 with 1 Axes>"
            ],
            "image/png": "[encoded data removed]"
          },
          "metadata": {}
        }
      ],
      "source": [
        "epochs = [i for i in range(1,51)]\n",
        "plt.plot(epochs,training_history.history['accuracy'],color='red')\n",
        "plt.xlabel('Number Of Epochs')\n",
        "plt.ylabel('Training Accuracy')\n",
        "plt.title('Visualization Of Training Accuracy Result')\n",
        "plt.show()"
      ]
    },
    {
      "cell_type": "markdown",
      "metadata": {
        "id": "Q_Fo3GjyOWj6"
      },
      "source": [
        "#Validation Accuracy"
      ]
    },
    {
      "cell_type": "code",
      "execution_count": null,
      "metadata": {
        "id": "z9G2KP3aM4WP",
        "colab": {
          "base_uri": "https://localhost:8080/",
          "height": 472
        },
        "outputId": "97a0d27e-3069-4b3a-bf67-0b15f85b817d"
      },
      "outputs": [
        {
          "output_type": "display_data",
          "data": {
            "text/plain": [
              "<Figure size 640x480 with 1 Axes>"
            ],
            "image/png": "[encoded data removed]"
          },
          "metadata": {}
        }
      ],
      "source": [
        "plt.plot(epochs,training_history.history['val_accuracy'],color='blue')\n",
        "plt.xlabel('Number Of Epochs')\n",
        "plt.ylabel('Validation Accuracy')\n",
        "plt.title('Visualization Of Validation Accuracy Result')\n",
        "plt.show()"
      ]
    },
    {
      "cell_type": "code",
      "execution_count": null,
      "metadata": {
        "id": "og-Dt0AMO1ai",
        "colab": {
          "base_uri": "https://localhost:8080/"
        },
        "outputId": "dc6cdd1c-509e-403c-f59a-28a83fa68cbf"
      },
      "outputs": [
        {
          "output_type": "stream",
          "name": "stdout",
          "text": [
            "176/176 [==============================] - 129s 695ms/step - loss: 0.0461 - accuracy: 0.9888\n"
          ]
        }
      ],
      "source": [
        "training_loss, training_accuracy = cnn.evaluate(training_set)"
      ]
    },
    {
      "cell_type": "code",
      "execution_count": null,
      "metadata": {
        "id": "M44dJGPIWUyQ",
        "colab": {
          "base_uri": "https://localhost:8080/"
        },
        "outputId": "bb9c763a-105c-4dec-fb41-80e094dd680f"
      },
      "outputs": [
        {
          "output_type": "stream",
          "name": "stdout",
          "text": [
            "18/18 [==============================] - 19s 586ms/step - loss: 0.5073 - accuracy: 0.9600\n"
          ]
        }
      ],
      "source": [
        "val_loss, val_accuracy = cnn.evaluate(validation_set)"
      ]
    },
    {
      "cell_type": "markdown",
      "metadata": {
        "id": "gpavJL_-WdB3"
      },
      "source": [
        "###Test Set Evaluation"
      ]
    },
    {
      "cell_type": "code",
      "execution_count": null,
      "metadata": {
        "id": "5wF4UQP7WUar",
        "colab": {
          "base_uri": "https://localhost:8080/"
        },
        "outputId": "74cadbb9-a191-4d2a-9448-6680e06d6e4e"
      },
      "outputs": [
        {
          "output_type": "stream",
          "name": "stdout",
          "text": [
            "Found 550 files belonging to 55 classes.\n"
          ]
        }
      ],
      "source": [
        "test_set = tf.keras.utils.image_dataset_from_directory(\n",
        "    '/content/drive/MyDrive/f&v_dataset/Test',\n",
        "    labels=\"inferred\",\n",
        "    label_mode=\"categorical\",\n",
        "    class_names=None,\n",
        "    color_mode=\"rgb\",\n",
        "    batch_size=32,\n",
        "    image_size=(64,64),\n",
        "    shuffle=True,\n",
        "    seed=None,\n",
        "    validation_split=None,\n",
        "    subset=None,\n",
        "    interpolation=\"bilinear\",\n",
        "    follow_links=False,\n",
        "    crop_to_aspect_ratio=False\n",
        "\n",
        ")"
      ]
    },
    {
      "cell_type": "code",
      "execution_count": null,
      "metadata": {
        "id": "BlQ231ZiW6Wl",
        "colab": {
          "base_uri": "https://localhost:8080/"
        },
        "outputId": "7ec17648-06c0-4fa2-8fee-3d913292afb0"
      },
      "outputs": [
        {
          "output_type": "stream",
          "name": "stdout",
          "text": [
            "18/18 [==============================] - 152s 4s/step - loss: 0.2273 - accuracy: 0.9836\n"
          ]
        }
      ],
      "source": [
        "test_loss, test_accuracy = cnn.evaluate(test_set)"
      ]
    }
  ],
  "metadata": {
    "colab": {
      "provenance": []
    },
    "kernelspec": {
      "display_name": "Python 3",
      "name": "python3"
    },
    "language_info": {
      "name": "python"
    }
  },
  "nbformat": 4,
  "nbformat_minor": 0
}