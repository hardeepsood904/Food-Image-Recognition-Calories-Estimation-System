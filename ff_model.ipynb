{
  "nbformat": 4,
  "nbformat_minor": 0,
  "metadata": {
    "colab": {
      "provenance": []
    },
    "kernelspec": {
      "name": "python3",
      "display_name": "Python 3"
    },
    "language_info": {
      "name": "python"
    }
  },
  "cells": [
    {
      "cell_type": "markdown",
      "metadata": {
        "id": "Is0dWZFwRdwf"
      },
      "source": [
        "#IMPORT DATASET"
      ]
    },
    {
      "cell_type": "code",
      "execution_count": null,
      "metadata": {
        "id": "uEMzqYcoQ1dG"
      },
      "outputs": [],
      "source": [
        "from google.colab import drive\n",
        "drive.mount('/content/drive')"
      ]
    },
    {
      "cell_type": "markdown",
      "metadata": {
        "id": "C5fSfOtkuJx-"
      },
      "source": [
        "\n",
        "#IMPORTING LIBRARIES\n"
      ]
    },
    {
      "cell_type": "code",
      "execution_count": null,
      "metadata": {
        "id": "rf0BsF3ORAvI"
      },
      "outputs": [],
      "source": [
        "import numpy as np\n",
        "import tensorflow as tf\n",
        "import matplotlib.pyplot as plt"
      ]
    },
    {
      "cell_type": "markdown",
      "metadata": {
        "id": "n9Oo68beRBAE"
      },
      "source": [
        "#DATA PREPROCESSING\n",
        "#TRAINING IMAGE PREPROCESSING"
      ]
    },
    {
      "cell_type": "code",
      "execution_count": null,
      "metadata": {
        "id": "UHfvPhGYSbbE",
        "colab": {
          "base_uri": "https://localhost:8080/"
        },
        "outputId": "4a352601-70b1-4ab8-8a17-5c29bdb9324c"
      },
      "outputs": [
        {
          "output_type": "stream",
          "name": "stdout",
          "text": [
            "Found 8000 files belonging to 40 classes.\n"
          ]
        }
      ],
      "source": [
        "training_set = tf.keras.utils.image_dataset_from_directory(\n",
        "    '/content/drive/MyDrive/Junk-Fast Food/Train',\n",
        "    labels=\"inferred\",\n",
        "    label_mode=\"categorical\",\n",
        "    class_names=None,\n",
        "    color_mode=\"rgb\",\n",
        "    batch_size=32,\n",
        "    image_size=(64,64),\n",
        "    shuffle=True,\n",
        "    seed=None,\n",
        "    validation_split=None,\n",
        "    subset=None,\n",
        "    interpolation=\"bilinear\",\n",
        "    follow_links=False,\n",
        "    crop_to_aspect_ratio=False\n",
        "\n",
        ")"
      ]
    },
    {
      "cell_type": "markdown",
      "metadata": {
        "id": "Hs4Z6VDxumal"
      },
      "source": [
        "#VALIDATION IMAGE PREPROCESSING"
      ]
    },
    {
      "cell_type": "code",
      "execution_count": null,
      "metadata": {
        "id": "Sx6WS1BzTj_x",
        "colab": {
          "base_uri": "https://localhost:8080/"
        },
        "outputId": "2b79536e-306a-443d-c34c-e6c2b11c63d2"
      },
      "outputs": [
        {
          "output_type": "stream",
          "name": "stdout",
          "text": [
            "Found 800 files belonging to 40 classes.\n"
          ]
        }
      ],
      "source": [
        "validation_set = tf.keras.utils.image_dataset_from_directory(\n",
        "    '/content/drive/MyDrive/Junk-Fast Food/Validation',\n",
        "    labels=\"inferred\",\n",
        "    label_mode=\"categorical\",\n",
        "    class_names=None,\n",
        "    color_mode=\"rgb\",\n",
        "    batch_size=32,\n",
        "    image_size=(64,64),\n",
        "    shuffle=True,\n",
        "    seed=None,\n",
        "    validation_split=None,\n",
        "    subset=None,\n",
        "    interpolation=\"bilinear\",\n",
        "    follow_links=False,\n",
        "    crop_to_aspect_ratio=False\n",
        "\n",
        ")"
      ]
    },
    {
      "cell_type": "markdown",
      "metadata": {
        "id": "VZdUerup_R5z"
      },
      "source": [
        "#BUILDING MODEL"
      ]
    },
    {
      "cell_type": "code",
      "execution_count": null,
      "metadata": {
        "id": "HkKzzI2p_Qgu"
      },
      "outputs": [],
      "source": [
        "cnn = tf.keras.models.Sequential()"
      ]
    },
    {
      "cell_type": "markdown",
      "metadata": {
        "id": "piAa7bQ7_sXP"
      },
      "source": [
        "#BUILDING CONVOLUTION LAYER"
      ]
    },
    {
      "cell_type": "code",
      "execution_count": null,
      "metadata": {
        "id": "3LfTAXUvUH67"
      },
      "outputs": [],
      "source": [
        "cnn.add(tf.keras.layers.Conv2D(filters=32,kernel_size=3,activation='relu',input_shape=[64,64,3]))\n",
        "cnn.add(tf.keras.layers.Conv2D(filters=32,kernel_size=3,activation='relu'))\n",
        "cnn.add(tf.keras.layers.MaxPool2D(pool_size=2,strides=2))"
      ]
    },
    {
      "cell_type": "code",
      "execution_count": null,
      "metadata": {
        "id": "cNRRsKeiB3Ek"
      },
      "outputs": [],
      "source": [
        "cnn.add(tf.keras.layers.Conv2D(filters=64,kernel_size=3,activation='relu'))\n",
        "cnn.add(tf.keras.layers.Conv2D(filters=64,kernel_size=3,activation='relu'))\n",
        "cnn.add(tf.keras.layers.MaxPool2D(pool_size=2,strides=2))"
      ]
    },
    {
      "cell_type": "code",
      "execution_count": null,
      "metadata": {
        "id": "iAxo9Ff8DP8V"
      },
      "outputs": [],
      "source": [
        "cnn.add(tf.keras.layers.Flatten())"
      ]
    },
    {
      "cell_type": "code",
      "execution_count": null,
      "metadata": {
        "id": "6hj7iLyRDXdo"
      },
      "outputs": [],
      "source": [
        "cnn.add(tf.keras.layers.Dense(units=512,activation='relu'))"
      ]
    },
    {
      "cell_type": "code",
      "execution_count": null,
      "metadata": {
        "id": "iddf3tfwTUA6"
      },
      "outputs": [],
      "source": [
        "cnn.add(tf.keras.layers.Dense(units=256,activation='relu'))"
      ]
    },
    {
      "cell_type": "code",
      "execution_count": null,
      "metadata": {
        "id": "bpX_VzzkThBK"
      },
      "outputs": [],
      "source": [
        "cnn.add(tf.keras.layers.Dropout(0.5)) #we are dropping some neuron to avoid overfitting"
      ]
    },
    {
      "cell_type": "markdown",
      "metadata": {
        "id": "M8Btf3KoEWec"
      },
      "source": [
        "#Output layer"
      ]
    },
    {
      "cell_type": "code",
      "execution_count": null,
      "metadata": {
        "id": "NNtDTjurDysr"
      },
      "outputs": [],
      "source": [
        "cnn.add(tf.keras.layers.Dense(units=40,activation='softmax'))"
      ]
    },
    {
      "cell_type": "markdown",
      "metadata": {
        "id": "1VLqjpxoEg6v"
      },
      "source": [
        "#Compiling and training phase"
      ]
    },
    {
      "cell_type": "code",
      "execution_count": null,
      "metadata": {
        "id": "qBJAoUrUEq_K"
      },
      "outputs": [],
      "source": [
        "# cnn.compile(optimizer=tf.keras.optimizers.RMSprop(learning_rate=0.001, rho=0.09), loss='categorical_crossentropy',metrics=['accuracy'])\n",
        "cnn.compile(optimizer='RMSprop', loss='categorical_crossentropy',metrics=['accuracy'])"
      ]
    },
    {
      "cell_type": "code",
      "execution_count": null,
      "metadata": {
        "id": "4JfzlzjfURro",
        "colab": {
          "base_uri": "https://localhost:8080/"
        },
        "outputId": "0dce5dbf-bc96-49b3-9985-64f676b2ccfb"
      },
      "outputs": [
        {
          "output_type": "stream",
          "name": "stdout",
          "text": [
            "Model: \"sequential\"\n",
            "_________________________________________________________________\n",
            " Layer (type)                Output Shape              Param #   \n",
            "=================================================================\n",
            " conv2d (Conv2D)             (None, 62, 62, 32)        896       \n",
            "                                                                 \n",
            " conv2d_1 (Conv2D)           (None, 60, 60, 32)        9248      \n",
            "                                                                 \n",
            " max_pooling2d (MaxPooling2  (None, 30, 30, 32)        0         \n",
            " D)                                                              \n",
            "                                                                 \n",
            " conv2d_2 (Conv2D)           (None, 28, 28, 64)        18496     \n",
            "                                                                 \n",
            " conv2d_3 (Conv2D)           (None, 26, 26, 64)        36928     \n",
            "                                                                 \n",
            " max_pooling2d_1 (MaxPoolin  (None, 13, 13, 64)        0         \n",
            " g2D)                                                            \n",
            "                                                                 \n",
            " flatten (Flatten)           (None, 10816)             0         \n",
            "                                                                 \n",
            " dense (Dense)               (None, 512)               5538304   \n",
            "                                                                 \n",
            " dense_1 (Dense)             (None, 256)               131328    \n",
            "                                                                 \n",
            " dropout (Dropout)           (None, 256)               0         \n",
            "                                                                 \n",
            " dense_2 (Dense)             (None, 40)                10280     \n",
            "                                                                 \n",
            "=================================================================\n",
            "Total params: 5745480 (21.92 MB)\n",
            "Trainable params: 5745480 (21.92 MB)\n",
            "Non-trainable params: 0 (0.00 Byte)\n",
            "_________________________________________________________________\n"
          ]
        }
      ],
      "source": [
        "cnn.summary()"
      ]
    },
    {
      "cell_type": "code",
      "execution_count": null,
      "metadata": {
        "id": "ItRdsLwTFRAU",
        "colab": {
          "base_uri": "https://localhost:8080/"
        },
        "outputId": "cb52c283-a54c-4c15-92c1-a5baae640888"
      },
      "outputs": [
        {
          "output_type": "stream",
          "name": "stdout",
          "text": [
            "Epoch 1/50\n",
            "250/250 [==============================] - 641s 2s/step - loss: 5.8042 - accuracy: 0.0224 - val_loss: 3.6853 - val_accuracy: 0.0338\n",
            "Epoch 2/50\n",
            "250/250 [==============================] - 113s 448ms/step - loss: 3.7575 - accuracy: 0.0253 - val_loss: 3.6802 - val_accuracy: 0.0362\n",
            "Epoch 3/50\n",
            "250/250 [==============================] - 113s 448ms/step - loss: 3.6914 - accuracy: 0.0371 - val_loss: 3.5671 - val_accuracy: 0.0700\n",
            "Epoch 4/50\n",
            "250/250 [==============================] - 115s 455ms/step - loss: 3.6009 - accuracy: 0.0538 - val_loss: 3.4679 - val_accuracy: 0.0838\n",
            "Epoch 5/50\n",
            "250/250 [==============================] - 116s 461ms/step - loss: 3.4614 - accuracy: 0.0857 - val_loss: 3.2966 - val_accuracy: 0.1500\n",
            "Epoch 6/50\n",
            "250/250 [==============================] - 114s 451ms/step - loss: 3.2424 - accuracy: 0.1360 - val_loss: 2.9618 - val_accuracy: 0.2362\n",
            "Epoch 7/50\n",
            "250/250 [==============================] - 114s 454ms/step - loss: 2.8638 - accuracy: 0.2288 - val_loss: 2.6062 - val_accuracy: 0.3438\n",
            "Epoch 8/50\n",
            "250/250 [==============================] - 110s 436ms/step - loss: 2.3416 - accuracy: 0.3629 - val_loss: 2.4345 - val_accuracy: 0.4150\n",
            "Epoch 9/50\n",
            "250/250 [==============================] - 115s 458ms/step - loss: 1.8200 - accuracy: 0.4970 - val_loss: 2.7096 - val_accuracy: 0.4400\n",
            "Epoch 10/50\n",
            "250/250 [==============================] - 116s 460ms/step - loss: 1.3752 - accuracy: 0.6159 - val_loss: 2.1799 - val_accuracy: 0.5612\n",
            "Epoch 11/50\n",
            "250/250 [==============================] - 111s 439ms/step - loss: 1.0714 - accuracy: 0.6984 - val_loss: 2.2436 - val_accuracy: 0.6100\n",
            "Epoch 12/50\n",
            "250/250 [==============================] - 111s 440ms/step - loss: 0.8561 - accuracy: 0.7613 - val_loss: 2.4678 - val_accuracy: 0.6488\n",
            "Epoch 13/50\n",
            "250/250 [==============================] - 112s 443ms/step - loss: 0.6899 - accuracy: 0.8096 - val_loss: 2.5507 - val_accuracy: 0.6025\n",
            "Epoch 14/50\n",
            "250/250 [==============================] - 111s 442ms/step - loss: 0.6089 - accuracy: 0.8396 - val_loss: 2.6123 - val_accuracy: 0.6850\n",
            "Epoch 15/50\n",
            "250/250 [==============================] - 110s 435ms/step - loss: 0.5383 - accuracy: 0.8595 - val_loss: 3.0329 - val_accuracy: 0.6525\n",
            "Epoch 16/50\n",
            "250/250 [==============================] - 110s 438ms/step - loss: 0.4448 - accuracy: 0.8802 - val_loss: 2.9887 - val_accuracy: 0.6900\n",
            "Epoch 17/50\n",
            "250/250 [==============================] - 111s 442ms/step - loss: 0.4243 - accuracy: 0.8931 - val_loss: 3.4519 - val_accuracy: 0.6612\n",
            "Epoch 18/50\n",
            "250/250 [==============================] - 113s 450ms/step - loss: 0.4048 - accuracy: 0.8971 - val_loss: 3.1029 - val_accuracy: 0.7075\n",
            "Epoch 19/50\n",
            "250/250 [==============================] - 113s 446ms/step - loss: 0.3730 - accuracy: 0.9069 - val_loss: 3.1971 - val_accuracy: 0.7150\n",
            "Epoch 20/50\n",
            "250/250 [==============================] - 109s 431ms/step - loss: 0.3773 - accuracy: 0.9140 - val_loss: 3.2475 - val_accuracy: 0.7050\n",
            "Epoch 21/50\n",
            "250/250 [==============================] - 115s 458ms/step - loss: 0.3306 - accuracy: 0.9210 - val_loss: 3.7777 - val_accuracy: 0.7063\n",
            "Epoch 22/50\n",
            "250/250 [==============================] - 112s 445ms/step - loss: 0.3314 - accuracy: 0.9246 - val_loss: 3.6331 - val_accuracy: 0.7050\n",
            "Epoch 23/50\n",
            "250/250 [==============================] - 111s 441ms/step - loss: 0.3022 - accuracy: 0.9320 - val_loss: 4.0450 - val_accuracy: 0.6950\n",
            "Epoch 24/50\n",
            "250/250 [==============================] - 114s 453ms/step - loss: 0.3021 - accuracy: 0.9319 - val_loss: 4.2948 - val_accuracy: 0.6837\n",
            "Epoch 25/50\n",
            "250/250 [==============================] - 109s 431ms/step - loss: 0.2766 - accuracy: 0.9423 - val_loss: 4.0804 - val_accuracy: 0.7188\n",
            "Epoch 26/50\n",
            "250/250 [==============================] - 113s 447ms/step - loss: 0.2566 - accuracy: 0.9465 - val_loss: 4.4363 - val_accuracy: 0.6900\n",
            "Epoch 27/50\n",
            "250/250 [==============================] - 111s 439ms/step - loss: 0.2633 - accuracy: 0.9449 - val_loss: 3.8982 - val_accuracy: 0.7163\n",
            "Epoch 28/50\n",
            "250/250 [==============================] - 113s 447ms/step - loss: 0.2873 - accuracy: 0.9452 - val_loss: 4.9597 - val_accuracy: 0.7000\n",
            "Epoch 29/50\n",
            "250/250 [==============================] - 115s 458ms/step - loss: 0.2872 - accuracy: 0.9419 - val_loss: 4.5898 - val_accuracy: 0.7100\n",
            "Epoch 30/50\n",
            "250/250 [==============================] - 110s 436ms/step - loss: 0.2866 - accuracy: 0.9417 - val_loss: 4.0219 - val_accuracy: 0.7138\n",
            "Epoch 31/50\n",
            "250/250 [==============================] - 112s 444ms/step - loss: 0.2768 - accuracy: 0.9516 - val_loss: 4.8300 - val_accuracy: 0.7188\n",
            "Epoch 32/50\n",
            "250/250 [==============================] - 109s 434ms/step - loss: 0.2721 - accuracy: 0.9471 - val_loss: 5.0920 - val_accuracy: 0.7237\n",
            "Epoch 33/50\n",
            "250/250 [==============================] - 115s 457ms/step - loss: 0.2593 - accuracy: 0.9503 - val_loss: 5.1966 - val_accuracy: 0.7225\n",
            "Epoch 34/50\n",
            "250/250 [==============================] - 116s 459ms/step - loss: 0.2905 - accuracy: 0.9509 - val_loss: 5.1924 - val_accuracy: 0.6800\n",
            "Epoch 35/50\n",
            "250/250 [==============================] - 114s 454ms/step - loss: 0.2931 - accuracy: 0.9473 - val_loss: 4.5843 - val_accuracy: 0.7350\n",
            "Epoch 36/50\n",
            "250/250 [==============================] - 115s 457ms/step - loss: 0.2503 - accuracy: 0.9555 - val_loss: 5.7219 - val_accuracy: 0.7050\n",
            "Epoch 37/50\n",
            "250/250 [==============================] - 116s 460ms/step - loss: 0.3012 - accuracy: 0.9513 - val_loss: 5.8047 - val_accuracy: 0.7200\n",
            "Epoch 38/50\n",
            "250/250 [==============================] - 119s 471ms/step - loss: 0.2862 - accuracy: 0.9548 - val_loss: 4.9011 - val_accuracy: 0.7125\n",
            "Epoch 39/50\n",
            "250/250 [==============================] - 115s 457ms/step - loss: 0.2667 - accuracy: 0.9565 - val_loss: 5.3562 - val_accuracy: 0.7350\n",
            "Epoch 40/50\n",
            "250/250 [==============================] - 119s 474ms/step - loss: 0.2918 - accuracy: 0.9521 - val_loss: 6.1052 - val_accuracy: 0.7175\n",
            "Epoch 41/50\n",
            "250/250 [==============================] - 119s 473ms/step - loss: 0.2814 - accuracy: 0.9554 - val_loss: 5.7854 - val_accuracy: 0.6837\n",
            "Epoch 42/50\n",
            "250/250 [==============================] - 119s 471ms/step - loss: 0.2290 - accuracy: 0.9630 - val_loss: 6.3781 - val_accuracy: 0.7212\n",
            "Epoch 43/50\n",
            "250/250 [==============================] - 119s 469ms/step - loss: 0.2813 - accuracy: 0.9589 - val_loss: 6.9881 - val_accuracy: 0.7138\n",
            "Epoch 44/50\n",
            "250/250 [==============================] - 112s 445ms/step - loss: 0.2947 - accuracy: 0.9549 - val_loss: 6.2402 - val_accuracy: 0.7350\n",
            "Epoch 45/50\n",
            "250/250 [==============================] - 113s 447ms/step - loss: 0.3135 - accuracy: 0.9544 - val_loss: 6.3507 - val_accuracy: 0.7325\n",
            "Epoch 46/50\n",
            "250/250 [==============================] - 113s 447ms/step - loss: 0.2547 - accuracy: 0.9594 - val_loss: 6.8677 - val_accuracy: 0.7325\n",
            "Epoch 47/50\n",
            "250/250 [==============================] - 113s 450ms/step - loss: 0.3233 - accuracy: 0.9586 - val_loss: 7.3624 - val_accuracy: 0.7400\n",
            "Epoch 48/50\n",
            "250/250 [==============================] - 115s 456ms/step - loss: 0.3284 - accuracy: 0.9542 - val_loss: 6.2961 - val_accuracy: 0.7113\n",
            "Epoch 49/50\n",
            "250/250 [==============================] - 113s 447ms/step - loss: 0.3181 - accuracy: 0.9556 - val_loss: 5.9208 - val_accuracy: 0.7325\n",
            "Epoch 50/50\n",
            "250/250 [==============================] - 112s 446ms/step - loss: 0.3128 - accuracy: 0.9586 - val_loss: 6.4912 - val_accuracy: 0.7163\n"
          ]
        }
      ],
      "source": [
        "training_history = cnn.fit(x=training_set,validation_data=validation_set,epochs=50)"
      ]
    },
    {
      "cell_type": "markdown",
      "metadata": {
        "id": "ttHkkp08GaDC"
      },
      "source": [
        "#Saving Model"
      ]
    },
    {
      "cell_type": "code",
      "execution_count": null,
      "metadata": {
        "id": "5U_knJGgF7yL",
        "colab": {
          "base_uri": "https://localhost:8080/"
        },
        "outputId": "2d5bf5ec-23c6-4ca9-91a3-4c394fcc68a5"
      },
      "outputs": [
        {
          "output_type": "stream",
          "name": "stderr",
          "text": [
            "/usr/local/lib/python3.10/dist-packages/keras/src/engine/training.py:3103: UserWarning: You are saving your model as an HDF5 file via `model.save()`. This file format is considered legacy. We recommend using instead the native Keras format, e.g. `model.save('my_model.keras')`.\n",
            "  saving_api.save_model(\n"
          ]
        }
      ],
      "source": [
        "cnn.save('trained_model_junk_food.h5')"
      ]
    },
    {
      "cell_type": "code",
      "execution_count": null,
      "metadata": {
        "id": "QPoDbKb-IRH1",
        "colab": {
          "base_uri": "https://localhost:8080/"
        },
        "outputId": "d6534d5a-74fe-4216-e1c2-534128240bcd"
      },
      "outputs": [
        {
          "output_type": "execute_result",
          "data": {
            "text/plain": [
              "{'loss': [5.8041887283325195,\n",
              "  3.7574658393859863,\n",
              "  3.691409111022949,\n",
              "  3.600928544998169,\n",
              "  3.4613802433013916,\n",
              "  3.2423534393310547,\n",
              "  2.863755464553833,\n",
              "  2.3416271209716797,\n",
              "  1.8200072050094604,\n",
              "  1.375177025794983,\n",
              "  1.0713863372802734,\n",
              "  0.8560876250267029,\n",
              "  0.6899137496948242,\n",
              "  0.6088550090789795,\n",
              "  0.5383116602897644,\n",
              "  0.44482287764549255,\n",
              "  0.4243336319923401,\n",
              "  0.40477368235588074,\n",
              "  0.3729593753814697,\n",
              "  0.3773322105407715,\n",
              "  0.3306496739387512,\n",
              "  0.3314264714717865,\n",
              "  0.30223676562309265,\n",
              "  0.30209797620773315,\n",
              "  0.2766225039958954,\n",
              "  0.25663939118385315,\n",
              "  0.263303279876709,\n",
              "  0.28732210397720337,\n",
              "  0.2871602773666382,\n",
              "  0.28663370013237,\n",
              "  0.27676212787628174,\n",
              "  0.27208787202835083,\n",
              "  0.25932368636131287,\n",
              "  0.29048508405685425,\n",
              "  0.29309090971946716,\n",
              "  0.2503419816493988,\n",
              "  0.30120721459388733,\n",
              "  0.2861791253089905,\n",
              "  0.26672127842903137,\n",
              "  0.2918234169483185,\n",
              "  0.28137192130088806,\n",
              "  0.22896307706832886,\n",
              "  0.2812862992286682,\n",
              "  0.2946593165397644,\n",
              "  0.3135416805744171,\n",
              "  0.2546716332435608,\n",
              "  0.3232971131801605,\n",
              "  0.32838037610054016,\n",
              "  0.31809356808662415,\n",
              "  0.3127689063549042],\n",
              " 'accuracy': [0.02237500064074993,\n",
              "  0.02525000087916851,\n",
              "  0.03712499886751175,\n",
              "  0.05375000089406967,\n",
              "  0.08574999868869781,\n",
              "  0.13600000739097595,\n",
              "  0.22875000536441803,\n",
              "  0.3628750145435333,\n",
              "  0.4970000088214874,\n",
              "  0.6158750057220459,\n",
              "  0.6983749866485596,\n",
              "  0.7612500190734863,\n",
              "  0.8096250295639038,\n",
              "  0.8396250009536743,\n",
              "  0.859499990940094,\n",
              "  0.8802499771118164,\n",
              "  0.8931249976158142,\n",
              "  0.8971250057220459,\n",
              "  0.9068750143051147,\n",
              "  0.9139999747276306,\n",
              "  0.9210000038146973,\n",
              "  0.9246249794960022,\n",
              "  0.9319999814033508,\n",
              "  0.9318749904632568,\n",
              "  0.9422500133514404,\n",
              "  0.9465000033378601,\n",
              "  0.9448750019073486,\n",
              "  0.9452499747276306,\n",
              "  0.9418749809265137,\n",
              "  0.9417499899864197,\n",
              "  0.9516249895095825,\n",
              "  0.9471250176429749,\n",
              "  0.9502500295639038,\n",
              "  0.9508749842643738,\n",
              "  0.9472500085830688,\n",
              "  0.9555000066757202,\n",
              "  0.9512500166893005,\n",
              "  0.9547500014305115,\n",
              "  0.9564999938011169,\n",
              "  0.9521250128746033,\n",
              "  0.9553750157356262,\n",
              "  0.9629999995231628,\n",
              "  0.9588750004768372,\n",
              "  0.9548749923706055,\n",
              "  0.9543750286102295,\n",
              "  0.9593750238418579,\n",
              "  0.9586250185966492,\n",
              "  0.9542499780654907,\n",
              "  0.9556249976158142,\n",
              "  0.9586250185966492],\n",
              " 'val_loss': [3.6853039264678955,\n",
              "  3.680203437805176,\n",
              "  3.567119836807251,\n",
              "  3.4679038524627686,\n",
              "  3.2965996265411377,\n",
              "  2.9618473052978516,\n",
              "  2.606198787689209,\n",
              "  2.434512138366699,\n",
              "  2.7096457481384277,\n",
              "  2.1798882484436035,\n",
              "  2.243643283843994,\n",
              "  2.4678194522857666,\n",
              "  2.5507140159606934,\n",
              "  2.6122968196868896,\n",
              "  3.0329437255859375,\n",
              "  2.9887332916259766,\n",
              "  3.4519472122192383,\n",
              "  3.102860450744629,\n",
              "  3.1971404552459717,\n",
              "  3.247494697570801,\n",
              "  3.777695894241333,\n",
              "  3.633090019226074,\n",
              "  4.045016288757324,\n",
              "  4.2948479652404785,\n",
              "  4.080420017242432,\n",
              "  4.436342239379883,\n",
              "  3.8981523513793945,\n",
              "  4.959665775299072,\n",
              "  4.589846611022949,\n",
              "  4.021928310394287,\n",
              "  4.830020904541016,\n",
              "  5.092030048370361,\n",
              "  5.19659423828125,\n",
              "  5.192409515380859,\n",
              "  4.584280014038086,\n",
              "  5.721909999847412,\n",
              "  5.8046979904174805,\n",
              "  4.9011454582214355,\n",
              "  5.356194019317627,\n",
              "  6.10520076751709,\n",
              "  5.785391330718994,\n",
              "  6.378112316131592,\n",
              "  6.9881415367126465,\n",
              "  6.2402424812316895,\n",
              "  6.350736618041992,\n",
              "  6.867690563201904,\n",
              "  7.362361907958984,\n",
              "  6.2961344718933105,\n",
              "  5.920830249786377,\n",
              "  6.49124002456665],\n",
              " 'val_accuracy': [0.03375000134110451,\n",
              "  0.036249998956918716,\n",
              "  0.07000000029802322,\n",
              "  0.08375000208616257,\n",
              "  0.15000000596046448,\n",
              "  0.23624999821186066,\n",
              "  0.34375,\n",
              "  0.41499999165534973,\n",
              "  0.4399999976158142,\n",
              "  0.5612499713897705,\n",
              "  0.6100000143051147,\n",
              "  0.6487500071525574,\n",
              "  0.6025000214576721,\n",
              "  0.6850000023841858,\n",
              "  0.6524999737739563,\n",
              "  0.6899999976158142,\n",
              "  0.6612499952316284,\n",
              "  0.7074999809265137,\n",
              "  0.7149999737739563,\n",
              "  0.7049999833106995,\n",
              "  0.706250011920929,\n",
              "  0.7049999833106995,\n",
              "  0.6949999928474426,\n",
              "  0.6837499737739563,\n",
              "  0.71875,\n",
              "  0.6899999976158142,\n",
              "  0.7162500023841858,\n",
              "  0.699999988079071,\n",
              "  0.7099999785423279,\n",
              "  0.7137500047683716,\n",
              "  0.71875,\n",
              "  0.7237499952316284,\n",
              "  0.7225000262260437,\n",
              "  0.6800000071525574,\n",
              "  0.7350000143051147,\n",
              "  0.7049999833106995,\n",
              "  0.7200000286102295,\n",
              "  0.7124999761581421,\n",
              "  0.7350000143051147,\n",
              "  0.7174999713897705,\n",
              "  0.6837499737739563,\n",
              "  0.7212499976158142,\n",
              "  0.7137500047683716,\n",
              "  0.7350000143051147,\n",
              "  0.7325000166893005,\n",
              "  0.7325000166893005,\n",
              "  0.7400000095367432,\n",
              "  0.7112500071525574,\n",
              "  0.7325000166893005,\n",
              "  0.7162500023841858]}"
            ]
          },
          "metadata": {},
          "execution_count": 17
        }
      ],
      "source": [
        "training_history.history #Return Dictionary"
      ]
    },
    {
      "cell_type": "markdown",
      "metadata": {
        "id": "pRzEIKu4Hn4f"
      },
      "source": [
        "###Recording History In JSON"
      ]
    },
    {
      "cell_type": "code",
      "execution_count": null,
      "metadata": {
        "id": "L9Ba0uXDHNLw"
      },
      "outputs": [],
      "source": [
        "import json\n",
        "with open('training_hist_junk_food.json','w') as f:\n",
        "  json.dump(training_history.history,f)"
      ]
    },
    {
      "cell_type": "code",
      "execution_count": null,
      "metadata": {
        "id": "pDhRQsT1IuC4",
        "colab": {
          "base_uri": "https://localhost:8080/"
        },
        "outputId": "447272b1-6419-4e81-adfa-1d014aa7023a"
      },
      "outputs": [
        {
          "output_type": "stream",
          "name": "stdout",
          "text": [
            "dict_keys(['loss', 'accuracy', 'val_loss', 'val_accuracy'])\n"
          ]
        }
      ],
      "source": [
        "print(training_history.history.keys())"
      ]
    },
    {
      "cell_type": "markdown",
      "metadata": {
        "id": "TXEDs56rJu_X"
      },
      "source": [
        "##Calculating Accuracy Of Model Achived On Validation Set"
      ]
    },
    {
      "cell_type": "code",
      "execution_count": null,
      "metadata": {
        "id": "L0z8t7jIJ_ll",
        "colab": {
          "base_uri": "https://localhost:8080/"
        },
        "outputId": "2274b134-727e-4f43-e613-a4ecb6d4d980"
      },
      "outputs": [
        {
          "output_type": "stream",
          "name": "stdout",
          "text": [
            "Validation Set Accuracy : 71.62500023841858 % \n"
          ]
        }
      ],
      "source": [
        "print(\"Validation Set Accuracy : {} % \".format(training_history.history['val_accuracy'][-1]*100))"
      ]
    },
    {
      "cell_type": "markdown",
      "metadata": {
        "id": "6aTdy33ZMeco"
      },
      "source": [
        "#Accuracy Visualiation\n",
        "##Training Visualiation"
      ]
    },
    {
      "cell_type": "code",
      "execution_count": null,
      "metadata": {
        "id": "HY_dIlBHMdQP",
        "colab": {
          "base_uri": "https://localhost:8080/",
          "height": 472
        },
        "outputId": "fd1b8dec-a4d4-4090-c6e3-73bc7ff5ce73"
      },
      "outputs": [
        {
          "output_type": "display_data",
          "data": {
            "text/plain": [
              "<Figure size 640x480 with 1 Axes>"
            ],
            "image/png": "[encoded data removed]"
          },
          "metadata": {}
        }
      ],
      "source": [
        "epochs = [i for i in range(1,51)]\n",
        "plt.plot(epochs,training_history.history['accuracy'],color='red')\n",
        "plt.xlabel('Number Of Epochs')\n",
        "plt.ylabel('Training Accuracy')\n",
        "plt.title('Visualization Of Training Accuracy Result')\n",
        "plt.show()"
      ]
    },
    {
      "cell_type": "markdown",
      "metadata": {
        "id": "Q_Fo3GjyOWj6"
      },
      "source": [
        "#Validation Accuracy"
      ]
    },
    {
      "cell_type": "code",
      "execution_count": null,
      "metadata": {
        "id": "z9G2KP3aM4WP",
        "colab": {
          "base_uri": "https://localhost:8080/",
          "height": 472
        },
        "outputId": "494f9e76-1c78-40d6-e086-819c208fa738"
      },
      "outputs": [
        {
          "output_type": "display_data",
          "data": {
            "text/plain": [
              "<Figure size 640x480 with 1 Axes>"
            ],
            "image/png": "[encoded data removed]"
          },
          "metadata": {}
        }
      ],
      "source": [
        "plt.plot(epochs,training_history.history['val_accuracy'],color='blue')\n",
        "plt.xlabel('Number Of Epochs')\n",
        "plt.ylabel('Validation Accuracy')\n",
        "plt.title('Visualization Of Validation Accuracy Result')\n",
        "plt.show()"
      ]
    },
    {
      "cell_type": "code",
      "execution_count": null,
      "metadata": {
        "id": "og-Dt0AMO1ai",
        "colab": {
          "base_uri": "https://localhost:8080/"
        },
        "outputId": "9d23706a-05cd-4d2c-bfb4-0050cccf5d48"
      },
      "outputs": [
        {
          "output_type": "stream",
          "name": "stdout",
          "text": [
            "250/250 [==============================] - 48s 188ms/step - loss: 0.0898 - accuracy: 0.9797\n"
          ]
        }
      ],
      "source": [
        "training_loss, training_accuracy = cnn.evaluate(training_set)"
      ]
    },
    {
      "cell_type": "code",
      "execution_count": null,
      "metadata": {
        "id": "M44dJGPIWUyQ",
        "colab": {
          "base_uri": "https://localhost:8080/"
        },
        "outputId": "081177ed-851c-45ed-9deb-83b1d7946032"
      },
      "outputs": [
        {
          "output_type": "stream",
          "name": "stdout",
          "text": [
            "25/25 [==============================] - 4s 119ms/step - loss: 6.4912 - accuracy: 0.7163\n"
          ]
        }
      ],
      "source": [
        "val_loss, val_accuracy = cnn.evaluate(validation_set)"
      ]
    },
    {
      "cell_type": "markdown",
      "metadata": {
        "id": "gpavJL_-WdB3"
      },
      "source": [
        "###Test Set Evaluation"
      ]
    },
    {
      "cell_type": "code",
      "execution_count": null,
      "metadata": {
        "id": "5wF4UQP7WUar",
        "colab": {
          "base_uri": "https://localhost:8080/"
        },
        "outputId": "438b0e8c-a058-48da-eb76-76dc40e2526a"
      },
      "outputs": [
        {
          "output_type": "stream",
          "name": "stdout",
          "text": [
            "Found 387 files belonging to 40 classes.\n"
          ]
        }
      ],
      "source": [
        "test_set = tf.keras.utils.image_dataset_from_directory(\n",
        "    '/content/drive/MyDrive/Junk-Fast Food/Test',\n",
        "    labels=\"inferred\",\n",
        "    label_mode=\"categorical\",\n",
        "    class_names=None,\n",
        "    color_mode=\"rgb\",\n",
        "    batch_size=32,\n",
        "    image_size=(64,64),\n",
        "    shuffle=True,\n",
        "    seed=None,\n",
        "    validation_split=None,\n",
        "    subset=None,\n",
        "    interpolation=\"bilinear\",\n",
        "    follow_links=False,\n",
        "    crop_to_aspect_ratio=False\n",
        "\n",
        ")"
      ]
    },
    {
      "cell_type": "code",
      "execution_count": null,
      "metadata": {
        "id": "BlQ231ZiW6Wl",
        "colab": {
          "base_uri": "https://localhost:8080/"
        },
        "outputId": "3a8e2e25-184e-4e8b-db88-5baa175fa9d9"
      },
      "outputs": [
        {
          "output_type": "stream",
          "name": "stdout",
          "text": [
            "13/13 [==============================] - 138s 3s/step - loss: 19.1240 - accuracy: 0.2558\n"
          ]
        }
      ],
      "source": [
        "test_loss, test_accuracy = cnn.evaluate(test_set)"
      ]
    }
  ]
}